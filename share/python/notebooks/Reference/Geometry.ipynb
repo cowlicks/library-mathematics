{
 "cells": [
  {
   "cell_type": "markdown",
   "metadata": {},
   "source": [
    "# Library ▸ Mathematics ▸ Geometry"
   ]
  },
  {
   "cell_type": "markdown",
   "metadata": {},
   "source": [
    "## Setup"
   ]
  },
  {
   "cell_type": "code",
   "execution_count": 231,
   "metadata": {},
   "outputs": [],
   "source": [
    "import sys\n",
    "\n",
    "# ! {sys.executable} -m pip install --quiet --index-url https://test.pypi.org/simple/ LibraryCorePy"
   ]
  },
  {
   "cell_type": "code",
   "execution_count": 232,
   "metadata": {},
   "outputs": [],
   "source": [
    "import numpy"
   ]
  },
  {
   "cell_type": "code",
   "execution_count": 233,
   "metadata": {},
   "outputs": [],
   "source": [
    "import Library.Core as Core\n",
    "import Library.Mathematics as Mathematics"
   ]
  },
  {
   "cell_type": "code",
   "execution_count": 234,
   "metadata": {},
   "outputs": [],
   "source": [
    "Angle = Mathematics.Geometry.Angle\n",
    "\n",
    "Point2d = Mathematics.Geometry.D2.Objects.Point\n",
    "Transformation2d = Mathematics.Geometry.D2.Transformation\n",
    "Point3d = Mathematics.Geometry.D3.Objects.Point\n",
    "PointSet3d = Mathematics.Geometry.D3.Objects.PointSet\n",
    "Line3d = Mathematics.Geometry.D3.Objects.Line\n",
    "Ray3d = Mathematics.Geometry.D3.Objects.Ray\n",
    "Segment3d = Mathematics.Geometry.D3.Objects.Segment\n",
    "Plane = Mathematics.Geometry.D3.Objects.Plane\n",
    "Polygon = Mathematics.Geometry.D3.Objects.Polygon\n",
    "Cuboid = Mathematics.Geometry.D3.Objects.Cuboid\n",
    "Sphere = Mathematics.Geometry.D3.Objects.Sphere\n",
    "Ellipsoid = Mathematics.Geometry.D3.Objects.Ellipsoid\n",
    "Transformation3d = Mathematics.Geometry.D3.Transformation\n",
    "Quaternion = Mathematics.Geometry.D3.Transformations.Rotations.Quaternion"
   ]
  },
  {
   "cell_type": "markdown",
   "metadata": {},
   "source": [
    "---"
   ]
  },
  {
   "cell_type": "markdown",
   "metadata": {},
   "source": [
    "## Geometry"
   ]
  },
  {
   "cell_type": "markdown",
   "metadata": {},
   "source": [
    "### Geometry ▸ Angle"
   ]
  },
  {
   "cell_type": "markdown",
   "metadata": {},
   "source": [
    "**Geometry ▸ Angle ▸ Constructors**"
   ]
  },
  {
   "cell_type": "code",
   "execution_count": 235,
   "metadata": {},
   "outputs": [],
   "source": [
    "angle = Angle(1.0, Angle.Unit.Radian)\n",
    "\n",
    "angle = Angle.Radians(1.0)\n",
    "angle = Angle.Degrees(1.0)\n",
    "angle = Angle.Arcminutes(1.0)\n",
    "angle = Angle.Arcseconds(1.0)\n",
    "angle = Angle.Revolutions(1.0)"
   ]
  },
  {
   "cell_type": "markdown",
   "metadata": {},
   "source": [
    "**Geometry ▸ Angle ▸ Operators**"
   ]
  },
  {
   "cell_type": "code",
   "execution_count": 236,
   "metadata": {},
   "outputs": [],
   "source": [
    "angle = angle + angle\n",
    "angle = angle - angle\n",
    "angle = angle * 3.0\n",
    "angle = angle / 3.0\n",
    "\n",
    "angle += angle\n",
    "angle -= angle\n",
    "angle *= 3.0\n",
    "angle /= 3.0"
   ]
  },
  {
   "cell_type": "markdown",
   "metadata": {},
   "source": [
    "**Geometry ▸ Angle ▸ Methods**"
   ]
  },
  {
   "cell_type": "code",
   "execution_count": 237,
   "metadata": {},
   "outputs": [],
   "source": [
    "angle.isDefined() ;"
   ]
  },
  {
   "cell_type": "code",
   "execution_count": 238,
   "metadata": {},
   "outputs": [],
   "source": [
    "angle.getUnit() ;"
   ]
  },
  {
   "cell_type": "code",
   "execution_count": 239,
   "metadata": {},
   "outputs": [],
   "source": [
    "angle.inUnit(Angle.Unit.Degree) ;\n",
    "\n",
    "angle.inRadians() ;\n",
    "angle.inDegrees() ;\n",
    "angle.inArcminutes() ;\n",
    "angle.inArcseconds() ;\n",
    "angle.inRevolutions() ;"
   ]
  },
  {
   "cell_type": "code",
   "execution_count": 240,
   "metadata": {},
   "outputs": [],
   "source": [
    "angle.toString() ;\n",
    "angle.toString(3) ;"
   ]
  },
  {
   "cell_type": "markdown",
   "metadata": {},
   "source": [
    "### Geometry ▸ 2D"
   ]
  },
  {
   "cell_type": "markdown",
   "metadata": {},
   "source": [
    "#### Geometry ▸ 2D ▸ Objects ▸ Point"
   ]
  },
  {
   "cell_type": "markdown",
   "metadata": {},
   "source": [
    "**Geometry ▸ 2D ▸ Objects ▸ Point ▸ Constructors**"
   ]
  },
  {
   "cell_type": "code",
   "execution_count": 241,
   "metadata": {},
   "outputs": [],
   "source": [
    "point = Point2d(0.0, 0.0) ;"
   ]
  },
  {
   "cell_type": "code",
   "execution_count": 242,
   "metadata": {},
   "outputs": [],
   "source": [
    "Point2d.Undefined() ;"
   ]
  },
  {
   "cell_type": "code",
   "execution_count": 243,
   "metadata": {},
   "outputs": [],
   "source": [
    "Point2d.Origin() ;"
   ]
  },
  {
   "cell_type": "code",
   "execution_count": 244,
   "metadata": {},
   "outputs": [],
   "source": [
    "Point2d.Vector(numpy.array((0.0, 0.0))) ;"
   ]
  },
  {
   "cell_type": "markdown",
   "metadata": {},
   "source": [
    "**Geometry ▸ 2D ▸ Objects ▸ Point ▸ Operators**"
   ]
  },
  {
   "cell_type": "code",
   "execution_count": 245,
   "metadata": {},
   "outputs": [],
   "source": [
    "point == point ;\n",
    "point != point ;"
   ]
  },
  {
   "cell_type": "code",
   "execution_count": 246,
   "metadata": {},
   "outputs": [],
   "source": [
    "point = point + numpy.array((0.0, 0.0)) ;\n",
    "point = point - numpy.array((0.0, 0.0)) ;"
   ]
  },
  {
   "cell_type": "code",
   "execution_count": 247,
   "metadata": {},
   "outputs": [],
   "source": [
    "vector = point - point ;"
   ]
  },
  {
   "cell_type": "markdown",
   "metadata": {},
   "source": [
    "**Geometry ▸ 2D ▸ Objects ▸ Point ▸ Methods**"
   ]
  },
  {
   "cell_type": "code",
   "execution_count": 248,
   "metadata": {},
   "outputs": [],
   "source": [
    "point.isDefined() ;"
   ]
  },
  {
   "cell_type": "code",
   "execution_count": 249,
   "metadata": {},
   "outputs": [],
   "source": [
    "point.applyTransformation(Transformation2d.Identity()) ;"
   ]
  },
  {
   "cell_type": "markdown",
   "metadata": {},
   "source": [
    "### Geometry ▸ 3D"
   ]
  },
  {
   "cell_type": "markdown",
   "metadata": {},
   "source": [
    "#### Geometry ▸ 3D ▸ Objects ▸ Point"
   ]
  },
  {
   "cell_type": "markdown",
   "metadata": {},
   "source": [
    "**Geometry ▸ 3D ▸ Objects ▸ Point ▸ Constructors**"
   ]
  },
  {
   "cell_type": "code",
   "execution_count": 250,
   "metadata": {},
   "outputs": [],
   "source": [
    "point = Point3d(0.0, 0.0, 0.0) ;"
   ]
  },
  {
   "cell_type": "code",
   "execution_count": 251,
   "metadata": {},
   "outputs": [],
   "source": [
    "Point3d.Undefined() ;"
   ]
  },
  {
   "cell_type": "code",
   "execution_count": 252,
   "metadata": {},
   "outputs": [],
   "source": [
    "Point3d.Origin() ;"
   ]
  },
  {
   "cell_type": "code",
   "execution_count": 253,
   "metadata": {},
   "outputs": [],
   "source": [
    "Point3d.Vector(numpy.array((0.0, 0.0, 0.0))) ;"
   ]
  },
  {
   "cell_type": "markdown",
   "metadata": {},
   "source": [
    "**Geometry ▸ 3D ▸ Objects ▸ Point ▸ Operators**"
   ]
  },
  {
   "cell_type": "code",
   "execution_count": 254,
   "metadata": {},
   "outputs": [],
   "source": [
    "point == point ;\n",
    "point != point ;"
   ]
  },
  {
   "cell_type": "code",
   "execution_count": 255,
   "metadata": {},
   "outputs": [],
   "source": [
    "point = point + numpy.array((0.0, 0.0, 0.0)) ;\n",
    "point = point - numpy.array((0.0, 0.0, 0.0)) ;"
   ]
  },
  {
   "cell_type": "code",
   "execution_count": 256,
   "metadata": {},
   "outputs": [],
   "source": [
    "vector = point - point ;"
   ]
  },
  {
   "cell_type": "markdown",
   "metadata": {},
   "source": [
    "**Geometry ▸ 3D ▸ Objects ▸ Point ▸ Methods**"
   ]
  },
  {
   "cell_type": "code",
   "execution_count": 257,
   "metadata": {},
   "outputs": [],
   "source": [
    "point.isDefined() ;"
   ]
  },
  {
   "cell_type": "code",
   "execution_count": 258,
   "metadata": {},
   "outputs": [],
   "source": [
    "point.applyTransformation(Transformation3d.Identity()) ;"
   ]
  },
  {
   "cell_type": "markdown",
   "metadata": {},
   "source": [
    "#### Geometry ▸ 3D ▸ Objects ▸ PointSet"
   ]
  },
  {
   "cell_type": "markdown",
   "metadata": {},
   "source": [
    "**Geometry ▸ 3D ▸ Objects ▸ PointSet ▸ Constructors**"
   ]
  },
  {
   "cell_type": "code",
   "execution_count": 259,
   "metadata": {},
   "outputs": [],
   "source": [
    "pointSet = PointSet3d([Point3d(0.0, 0.0, 0.0), Point3d(1.0, 0.0, 0.0)]) ;"
   ]
  },
  {
   "cell_type": "code",
   "execution_count": 260,
   "metadata": {},
   "outputs": [],
   "source": [
    "PointSet3d.Empty() ;"
   ]
  },
  {
   "cell_type": "markdown",
   "metadata": {},
   "source": [
    "**Geometry ▸ 3D ▸ Objects ▸ PointSet ▸ Operators**"
   ]
  },
  {
   "cell_type": "code",
   "execution_count": 261,
   "metadata": {},
   "outputs": [],
   "source": [
    "pointSet == pointSet ;\n",
    "pointSet != pointSet ;"
   ]
  },
  {
   "cell_type": "code",
   "execution_count": 262,
   "metadata": {},
   "outputs": [],
   "source": [
    "[point for point in pointSet] ;"
   ]
  },
  {
   "cell_type": "markdown",
   "metadata": {},
   "source": [
    "**Geometry ▸ 3D ▸ Objects ▸ PointSet ▸ Methods**"
   ]
  },
  {
   "cell_type": "code",
   "execution_count": 263,
   "metadata": {},
   "outputs": [],
   "source": [
    "pointSet.isDefined() ;"
   ]
  },
  {
   "cell_type": "code",
   "execution_count": 264,
   "metadata": {},
   "outputs": [],
   "source": [
    "pointSet.isEmpty() ;"
   ]
  },
  {
   "cell_type": "code",
   "execution_count": 265,
   "metadata": {},
   "outputs": [],
   "source": [
    "pointSet.isNear(pointSet, 1e-15) ;"
   ]
  },
  {
   "cell_type": "code",
   "execution_count": 266,
   "metadata": {},
   "outputs": [],
   "source": [
    "pointSet.getSize() ;"
   ]
  },
  {
   "cell_type": "code",
   "execution_count": 267,
   "metadata": {},
   "outputs": [],
   "source": [
    "pointSet.getPointClosestTo(Point3d(0.0, 0.0, 0.0)) ;"
   ]
  },
  {
   "cell_type": "code",
   "execution_count": 268,
   "metadata": {},
   "outputs": [],
   "source": [
    "pointSet.applyTransformation(Transformation3d.Identity()) ;"
   ]
  },
  {
   "cell_type": "markdown",
   "metadata": {},
   "source": [
    "#### Geometry ▸ 3D ▸ Objects ▸ Line"
   ]
  },
  {
   "cell_type": "markdown",
   "metadata": {},
   "source": [
    "*To be completed...*"
   ]
  },
  {
   "cell_type": "markdown",
   "metadata": {},
   "source": [
    "#### Geometry ▸ 3D ▸ Objects ▸ Ray"
   ]
  },
  {
   "cell_type": "markdown",
   "metadata": {},
   "source": [
    "*To be completed...*"
   ]
  },
  {
   "cell_type": "markdown",
   "metadata": {},
   "source": [
    "#### Geometry ▸ 3D ▸ Objects ▸ Segment"
   ]
  },
  {
   "cell_type": "markdown",
   "metadata": {},
   "source": [
    "**Geometry ▸ 3D ▸ Objects ▸ Segment ▸ Constructors**"
   ]
  },
  {
   "cell_type": "code",
   "execution_count": 269,
   "metadata": {},
   "outputs": [],
   "source": [
    "segment = Segment3d(Point3d(0.0, 0.0, 0.0), Point3d(1.0, 0.0, 0.0)) ;"
   ]
  },
  {
   "cell_type": "code",
   "execution_count": 270,
   "metadata": {},
   "outputs": [],
   "source": [
    "Segment3d.Undefined() ;"
   ]
  },
  {
   "cell_type": "markdown",
   "metadata": {},
   "source": [
    "**Geometry ▸ 3D ▸ Objects ▸ Segment ▸ Operators**"
   ]
  },
  {
   "cell_type": "code",
   "execution_count": 271,
   "metadata": {},
   "outputs": [],
   "source": [
    "segment == segment ;\n",
    "segment != segment ;"
   ]
  },
  {
   "cell_type": "markdown",
   "metadata": {},
   "source": [
    "**Geometry ▸ 3D ▸ Objects ▸ Segment ▸ Methods**"
   ]
  },
  {
   "cell_type": "code",
   "execution_count": 272,
   "metadata": {},
   "outputs": [],
   "source": [
    "segment.isDefined() ;"
   ]
  },
  {
   "cell_type": "code",
   "execution_count": 273,
   "metadata": {},
   "outputs": [],
   "source": [
    "segment.isDegenerate() ;"
   ]
  },
  {
   "cell_type": "code",
   "execution_count": 274,
   "metadata": {},
   "outputs": [],
   "source": [
    "# segment.intersectsEllipsoid(D3.Objects.Ellipsoid.Undefined()) ;"
   ]
  },
  {
   "cell_type": "code",
   "execution_count": 275,
   "metadata": {},
   "outputs": [],
   "source": [
    "# segment.contains() ;"
   ]
  },
  {
   "cell_type": "code",
   "execution_count": 276,
   "metadata": {},
   "outputs": [],
   "source": [
    "segment.getFirstPoint() ;\n",
    "segment.getSecondPoint() ;"
   ]
  },
  {
   "cell_type": "code",
   "execution_count": 277,
   "metadata": {},
   "outputs": [],
   "source": [
    "segment.getCenter() ;"
   ]
  },
  {
   "cell_type": "code",
   "execution_count": 278,
   "metadata": {},
   "outputs": [],
   "source": [
    "segment.getDirection() ;"
   ]
  },
  {
   "cell_type": "code",
   "execution_count": 279,
   "metadata": {},
   "outputs": [],
   "source": [
    "segment.getLength() ;"
   ]
  },
  {
   "cell_type": "code",
   "execution_count": 280,
   "metadata": {},
   "outputs": [],
   "source": [
    "segment.applyTransformation(Transformation3d.Identity()) ;"
   ]
  },
  {
   "cell_type": "markdown",
   "metadata": {},
   "source": [
    "#### Geometry ▸ 3D ▸ Objects ▸ Plane"
   ]
  },
  {
   "cell_type": "markdown",
   "metadata": {},
   "source": [
    "*To be completed...*"
   ]
  },
  {
   "cell_type": "markdown",
   "metadata": {},
   "source": [
    "#### Geometry ▸ 3D ▸ Objects ▸ Polygon"
   ]
  },
  {
   "cell_type": "markdown",
   "metadata": {},
   "source": [
    "*To be completed...*"
   ]
  },
  {
   "cell_type": "markdown",
   "metadata": {},
   "source": [
    "#### Geometry ▸ 3D ▸ Objects ▸ Cuboid"
   ]
  },
  {
   "cell_type": "markdown",
   "metadata": {},
   "source": [
    "**Geometry ▸ 3D ▸ Objects ▸ Cuboid ▸ Constructors**"
   ]
  },
  {
   "cell_type": "code",
   "execution_count": 281,
   "metadata": {},
   "outputs": [],
   "source": [
    "center = Point3d(0.0, 0.0, 0.0)\n",
    "axes = [numpy.array((1.0, 0.0, 0.0)), numpy.array((0.0, 1.0, 0.0)), numpy.array((0.0, 0.0, 1.0))]\n",
    "extent = [1.0, 2.0, 3.0]\n",
    "\n",
    "cuboid = Cuboid(center, axes, extent) ;"
   ]
  },
  {
   "cell_type": "code",
   "execution_count": 282,
   "metadata": {},
   "outputs": [],
   "source": [
    "Cuboid.Undefined() ;"
   ]
  },
  {
   "cell_type": "markdown",
   "metadata": {},
   "source": [
    "**Geometry ▸ 3D ▸ Objects ▸ Cuboid ▸ Operators**"
   ]
  },
  {
   "cell_type": "code",
   "execution_count": 283,
   "metadata": {},
   "outputs": [],
   "source": [
    "cuboid == cuboid ;\n",
    "cuboid != cuboid ;"
   ]
  },
  {
   "cell_type": "markdown",
   "metadata": {},
   "source": [
    "**Geometry ▸ 3D ▸ Objects ▸ Cuboid ▸ Methods**"
   ]
  },
  {
   "cell_type": "code",
   "execution_count": 284,
   "metadata": {},
   "outputs": [],
   "source": [
    "cuboid.isDefined() ;"
   ]
  },
  {
   "cell_type": "code",
   "execution_count": 285,
   "metadata": {},
   "outputs": [],
   "source": [
    "cuboid.isNear(cuboid, 0.0) ;"
   ]
  },
  {
   "cell_type": "code",
   "execution_count": 286,
   "metadata": {},
   "outputs": [],
   "source": [
    "cuboid.intersectsPoint(Point3d(0.0, 0.0, 0.0)) ;"
   ]
  },
  {
   "cell_type": "code",
   "execution_count": 287,
   "metadata": {},
   "outputs": [],
   "source": [
    "cuboid.intersectsPointSet(PointSet3d([Point3d(0.0, 0.0, 0.0), Point3d(0.0, 0.0, 0.0)])) ;"
   ]
  },
  {
   "cell_type": "code",
   "execution_count": 288,
   "metadata": {},
   "outputs": [],
   "source": [
    "cuboid.intersectsLine(Line3d(Point3d(0.0, 0.0, 0.0), numpy.array((0.0, 0.0, 1.0)))) ;"
   ]
  },
  {
   "cell_type": "code",
   "execution_count": 289,
   "metadata": {},
   "outputs": [],
   "source": [
    "cuboid.intersectsCuboid(cuboid) ;"
   ]
  },
  {
   "cell_type": "code",
   "execution_count": 290,
   "metadata": {},
   "outputs": [],
   "source": [
    "cuboid.getCenter() ;"
   ]
  },
  {
   "cell_type": "code",
   "execution_count": 291,
   "metadata": {},
   "outputs": [],
   "source": [
    "cuboid.getFirstAxis() ;\n",
    "cuboid.getSecondAxis() ;\n",
    "cuboid.getThirdAxis() ;"
   ]
  },
  {
   "cell_type": "code",
   "execution_count": 292,
   "metadata": {},
   "outputs": [],
   "source": [
    "cuboid.getFirstExtent() ;\n",
    "cuboid.getSecondExtent() ;\n",
    "cuboid.getThirdExtent() ;"
   ]
  },
  {
   "cell_type": "code",
   "execution_count": 293,
   "metadata": {},
   "outputs": [],
   "source": [
    "cuboid.getVertices() ;"
   ]
  },
  {
   "cell_type": "code",
   "execution_count": 294,
   "metadata": {},
   "outputs": [],
   "source": [
    "cuboid.applyTransformation(Transformation3d.Identity()) ;"
   ]
  },
  {
   "cell_type": "markdown",
   "metadata": {},
   "source": [
    "#### Geometry ▸ 3D ▸ Objects ▸ Sphere"
   ]
  },
  {
   "cell_type": "markdown",
   "metadata": {},
   "source": [
    "**Geometry ▸ 3D ▸ Objects ▸ Sphere ▸ Constructors**"
   ]
  },
  {
   "cell_type": "code",
   "execution_count": 295,
   "metadata": {},
   "outputs": [],
   "source": [
    "sphere = Sphere(Point3d.Origin(), 1.0) ;"
   ]
  },
  {
   "cell_type": "code",
   "execution_count": 296,
   "metadata": {},
   "outputs": [],
   "source": [
    "sphere = Sphere.Undefined() ;"
   ]
  },
  {
   "cell_type": "code",
   "execution_count": 297,
   "metadata": {},
   "outputs": [],
   "source": [
    "sphere = Sphere.Unit(Point3d.Origin()) ;"
   ]
  },
  {
   "cell_type": "markdown",
   "metadata": {},
   "source": [
    "**Geometry ▸ 3D ▸ Objects ▸ Sphere ▸ Operators**"
   ]
  },
  {
   "cell_type": "code",
   "execution_count": 298,
   "metadata": {},
   "outputs": [],
   "source": [
    "sphere == sphere ;\n",
    "sphere != sphere ;"
   ]
  },
  {
   "cell_type": "markdown",
   "metadata": {},
   "source": [
    "**Geometry ▸ 3D ▸ Objects ▸ Sphere ▸ Methods**"
   ]
  },
  {
   "cell_type": "code",
   "execution_count": 299,
   "metadata": {},
   "outputs": [],
   "source": [
    "sphere.isDefined() ;"
   ]
  },
  {
   "cell_type": "code",
   "execution_count": 300,
   "metadata": {},
   "outputs": [],
   "source": [
    "sphere.isUnitary() ;"
   ]
  },
  {
   "cell_type": "code",
   "execution_count": 301,
   "metadata": {},
   "outputs": [],
   "source": [
    "sphere.getCenter() ;"
   ]
  },
  {
   "cell_type": "code",
   "execution_count": 302,
   "metadata": {},
   "outputs": [],
   "source": [
    "sphere.getRadius() ;"
   ]
  },
  {
   "cell_type": "code",
   "execution_count": 303,
   "metadata": {},
   "outputs": [],
   "source": [
    "sphere.applyTransformation(Transformation3d.Identity()) ;"
   ]
  },
  {
   "cell_type": "markdown",
   "metadata": {},
   "source": [
    "#### Geometry ▸ 3D ▸ Objects ▸ Ellipsoid"
   ]
  },
  {
   "cell_type": "markdown",
   "metadata": {},
   "source": [
    "**Geometry ▸ 3D ▸ Objects ▸ Ellipsoid ▸ Constructors**"
   ]
  },
  {
   "cell_type": "code",
   "execution_count": 304,
   "metadata": {},
   "outputs": [],
   "source": [
    "ellipsoid = Ellipsoid.Undefined() ;"
   ]
  },
  {
   "cell_type": "code",
   "execution_count": 305,
   "metadata": {},
   "outputs": [],
   "source": [
    "ellipsoid = Ellipsoid(Point3d.Origin(), 1.0, 2.0, 3.0, Quaternion.Unit()) ;"
   ]
  },
  {
   "cell_type": "markdown",
   "metadata": {},
   "source": [
    "**Geometry ▸ 3D ▸ Objects ▸ Ellipsoid ▸ Operators**"
   ]
  },
  {
   "cell_type": "code",
   "execution_count": 306,
   "metadata": {},
   "outputs": [],
   "source": [
    "ellipsoid == ellipsoid ;\n",
    "ellipsoid != ellipsoid ;"
   ]
  },
  {
   "cell_type": "markdown",
   "metadata": {},
   "source": [
    "**Geometry ▸ 3D ▸ Objects ▸ Ellipsoid ▸ Methods**"
   ]
  },
  {
   "cell_type": "code",
   "execution_count": 307,
   "metadata": {},
   "outputs": [],
   "source": [
    "ellipsoid.isDefined() ;"
   ]
  },
  {
   "cell_type": "code",
   "execution_count": 308,
   "metadata": {},
   "outputs": [],
   "source": [
    "ellipsoid.intersectsPoint(Point3d.Origin()) ;"
   ]
  },
  {
   "cell_type": "code",
   "execution_count": 309,
   "metadata": {},
   "outputs": [],
   "source": [
    "ellipsoid.intersectsPointSet(PointSet3d([Point3d(0.0, 0.0, 0.0), Point3d(0.0, 0.0, 3.0)])) ;"
   ]
  },
  {
   "cell_type": "code",
   "execution_count": 310,
   "metadata": {},
   "outputs": [],
   "source": [
    "ellipsoid.intersectsLine(Line3d(Point3d(0.0, 0.0, 0.0), numpy.array((0.0, 0.0, 1.0)))) ;"
   ]
  },
  {
   "cell_type": "code",
   "execution_count": 311,
   "metadata": {},
   "outputs": [],
   "source": [
    "ellipsoid.intersectsRay(Ray3d(Point3d(0.0, 0.0, 5.0), numpy.array((0.0, 0.0, 1.0)))) ;"
   ]
  },
  {
   "cell_type": "code",
   "execution_count": 312,
   "metadata": {},
   "outputs": [],
   "source": [
    "ellipsoid.intersectsSegment(Segment3d(Point3d(0.0, 0.0, 0.0), Point3d(1.0, 0.0, 0.0))) ;"
   ]
  },
  {
   "cell_type": "code",
   "execution_count": 313,
   "metadata": {},
   "outputs": [],
   "source": [
    "ellipsoid.intersectsPlane(Plane(Point3d(0.0, 0.0, 0.0), numpy.array((0.0, 0.0, 1.0)))) ;"
   ]
  },
  {
   "cell_type": "code",
   "execution_count": 314,
   "metadata": {},
   "outputs": [],
   "source": [
    "ellipsoid.containsPoint(Point3d(0.0, 0.0, 0.0)) ;"
   ]
  },
  {
   "cell_type": "code",
   "execution_count": 315,
   "metadata": {},
   "outputs": [],
   "source": [
    "ellipsoid.containsPointSet(PointSet3d([Point3d(1.0, 0.0, 0.0), Point3d(0.0, 0.0, 3.0)])) ;"
   ]
  },
  {
   "cell_type": "code",
   "execution_count": 316,
   "metadata": {},
   "outputs": [],
   "source": [
    "ellipsoid.containsSegment(Segment3d(Point3d(0.0, 0.0, 0.0), Point3d(1.0, 0.0, 0.0))) ;"
   ]
  },
  {
   "cell_type": "code",
   "execution_count": 317,
   "metadata": {},
   "outputs": [],
   "source": [
    "ellipsoid.getCenter() ;"
   ]
  },
  {
   "cell_type": "code",
   "execution_count": 318,
   "metadata": {},
   "outputs": [],
   "source": [
    "ellipsoid.getFirstPrincipalSemiAxis() ;\n",
    "ellipsoid.getSecondPrincipalSemiAxis() ;\n",
    "ellipsoid.getThirdPrincipalSemiAxis() ;"
   ]
  },
  {
   "cell_type": "code",
   "execution_count": 319,
   "metadata": {},
   "outputs": [],
   "source": [
    "ellipsoid.getFirstAxis() ;\n",
    "ellipsoid.getSecondAxis() ;\n",
    "ellipsoid.getThirdAxis() ;"
   ]
  },
  {
   "cell_type": "code",
   "execution_count": 320,
   "metadata": {},
   "outputs": [],
   "source": [
    "ellipsoid.getOrientation() ;"
   ]
  },
  {
   "cell_type": "code",
   "execution_count": 321,
   "metadata": {},
   "outputs": [],
   "source": [
    "ellipsoid.getMatrix() ;"
   ]
  },
  {
   "cell_type": "code",
   "execution_count": 322,
   "metadata": {},
   "outputs": [],
   "source": [
    "ellipsoid.intersectionWithLine(Line3d(Point3d(0.0, 0.0, 0.0), numpy.array((0.0, 0.0, 1.0)))) ;"
   ]
  },
  {
   "cell_type": "code",
   "execution_count": 323,
   "metadata": {},
   "outputs": [],
   "source": [
    "ellipsoid.intersectionWithRay(Ray3d(Point3d(0.0, 0.0, -4.0), numpy.array((0.0, 0.0, 1.0)))) ;\n",
    "ellipsoid.intersectionWithRay(Ray3d(Point3d(0.0, 0.0, -4.0), numpy.array((0.0, 0.0, 1.0))), False) ;"
   ]
  },
  {
   "cell_type": "code",
   "execution_count": 324,
   "metadata": {},
   "outputs": [],
   "source": [
    "ellipsoid.intersectionWithSegment(Segment3d(Point3d(0.0, 0.0, 0.0), Point3d(1.0, 0.0, 0.0))) ;"
   ]
  },
  {
   "cell_type": "code",
   "execution_count": 325,
   "metadata": {},
   "outputs": [],
   "source": [
    "ellipsoid.applyTransformation(Transformation3d.Identity()) ;"
   ]
  },
  {
   "cell_type": "markdown",
   "metadata": {},
   "source": [
    "#### Geometry ▸ 3D ▸ Objects ▸ Cone"
   ]
  },
  {
   "cell_type": "markdown",
   "metadata": {},
   "source": [
    "*To be completed...*"
   ]
  },
  {
   "cell_type": "markdown",
   "metadata": {},
   "source": [
    "#### Geometry ▸ 3D ▸ Objects ▸ Pyramid"
   ]
  },
  {
   "cell_type": "markdown",
   "metadata": {},
   "source": [
    "*To be completed...*"
   ]
  },
  {
   "cell_type": "markdown",
   "metadata": {},
   "source": [
    "#### Geometry ▸ 3D ▸ Intersection"
   ]
  },
  {
   "cell_type": "markdown",
   "metadata": {},
   "source": [
    "*To be completed...*"
   ]
  },
  {
   "cell_type": "markdown",
   "metadata": {},
   "source": [
    "### Geometry ▸ 3D ▸ Transformations"
   ]
  },
  {
   "cell_type": "markdown",
   "metadata": {},
   "source": [
    "### Geometry ▸ Transformations ▸ Rotations"
   ]
  },
  {
   "cell_type": "markdown",
   "metadata": {},
   "source": [
    "### Geometry ▸ Transformations ▸ Rotations ▸ Quaternion"
   ]
  },
  {
   "cell_type": "markdown",
   "metadata": {},
   "source": [
    "**Geometry ▸ Transformations ▸ Rotations ▸ Quaternion ▸ Constructors**"
   ]
  },
  {
   "cell_type": "code",
   "execution_count": 326,
   "metadata": {},
   "outputs": [],
   "source": [
    "quaternion = Quaternion(0.0, 0.0, 0.0, 1.0, Quaternion.Format.XYZS)\n",
    "\n",
    "quaternion = Quaternion.Undefined()\n",
    "quaternion = Quaternion.Unit()\n",
    "quaternion = Quaternion.XYZS(0.0, 0.0, 0.0, 1.0)\n",
    "# quaternion = Quaternion.RotationVector\n",
    "# quaternion = Quaternion.RotationMatrix\n",
    "quaternion = Quaternion.Parse(\"[0.0, 0.0, 0.0, 1.0]\", Quaternion.Format.XYZS)"
   ]
  },
  {
   "cell_type": "markdown",
   "metadata": {},
   "source": [
    "**Geometry ▸ Transformations ▸ Rotations ▸ Quaternion ▸ Operators**"
   ]
  },
  {
   "cell_type": "code",
   "execution_count": 327,
   "metadata": {},
   "outputs": [],
   "source": [
    "quaternion == quaternion\n",
    "quaternion != quaternion\n",
    "\n",
    "quaternion = quaternion * quaternion\n",
    "quaternion = quaternion / quaternion\n",
    "\n",
    "vector = quaternion * numpy.array((1.0, 0.0, 0.0))"
   ]
  },
  {
   "cell_type": "markdown",
   "metadata": {},
   "source": [
    "**Geometry ▸ Transformations ▸ Rotations ▸ Quaternion ▸ Methods**"
   ]
  },
  {
   "cell_type": "code",
   "execution_count": 328,
   "metadata": {},
   "outputs": [],
   "source": [
    "quaternion.isDefined() ;"
   ]
  },
  {
   "cell_type": "code",
   "execution_count": 329,
   "metadata": {},
   "outputs": [],
   "source": [
    "quaternion.isUnitary() ;"
   ]
  },
  {
   "cell_type": "code",
   "execution_count": 330,
   "metadata": {},
   "outputs": [],
   "source": [
    "quaternion.isNear(quaternion, Angle.Radians(0.0)) ;"
   ]
  },
  {
   "cell_type": "code",
   "execution_count": 331,
   "metadata": {},
   "outputs": [],
   "source": [
    "quaternion.x() ;\n",
    "quaternion.y() ;\n",
    "quaternion.z() ;\n",
    "quaternion.s() ;"
   ]
  },
  {
   "cell_type": "code",
   "execution_count": 332,
   "metadata": {},
   "outputs": [],
   "source": [
    "quaternion.getVectorPart() ;\n",
    "quaternion.getScalarPart() ;"
   ]
  },
  {
   "cell_type": "code",
   "execution_count": 333,
   "metadata": {},
   "outputs": [],
   "source": [
    "quaternion.toNormalized() ;"
   ]
  },
  {
   "cell_type": "code",
   "execution_count": 334,
   "metadata": {},
   "outputs": [],
   "source": [
    "quaternion.toConjugate() ;"
   ]
  },
  {
   "cell_type": "code",
   "execution_count": 335,
   "metadata": {},
   "outputs": [],
   "source": [
    "quaternion.toInverse() ;"
   ]
  },
  {
   "cell_type": "code",
   "execution_count": 336,
   "metadata": {},
   "outputs": [],
   "source": [
    "# pow\n",
    "# exp\n",
    "# log\n",
    "# norm"
   ]
  },
  {
   "cell_type": "code",
   "execution_count": 337,
   "metadata": {},
   "outputs": [],
   "source": [
    "quaternion.crossMultiply(quaternion) ;"
   ]
  },
  {
   "cell_type": "code",
   "execution_count": 338,
   "metadata": {},
   "outputs": [],
   "source": [
    "quaternion.dotMultiply(quaternion) ;"
   ]
  },
  {
   "cell_type": "code",
   "execution_count": 339,
   "metadata": {},
   "outputs": [],
   "source": [
    "quaternion.rotateVector(numpy.array((1.0, 0.0, 0.0))) ;"
   ]
  },
  {
   "cell_type": "code",
   "execution_count": 340,
   "metadata": {},
   "outputs": [],
   "source": [
    "quaternion.toVector(Quaternion.Format.XYZS) ;"
   ]
  },
  {
   "cell_type": "code",
   "execution_count": 341,
   "metadata": {},
   "outputs": [],
   "source": [
    "quaternion.toString(Quaternion.Format.XYZS) ;"
   ]
  },
  {
   "cell_type": "code",
   "execution_count": 342,
   "metadata": {},
   "outputs": [],
   "source": [
    "quaternion.normalize() ;"
   ]
  },
  {
   "cell_type": "code",
   "execution_count": 343,
   "metadata": {},
   "outputs": [],
   "source": [
    "quaternion.conjugate() ;"
   ]
  },
  {
   "cell_type": "code",
   "execution_count": 344,
   "metadata": {},
   "outputs": [],
   "source": [
    "quaternion.inverse() ;"
   ]
  },
  {
   "cell_type": "code",
   "execution_count": 345,
   "metadata": {},
   "outputs": [],
   "source": [
    "quaternion.rectify() ;"
   ]
  },
  {
   "cell_type": "markdown",
   "metadata": {},
   "source": [
    "### Geometry ▸ Transformations ▸ Rotations ▸ RotationVector"
   ]
  },
  {
   "cell_type": "markdown",
   "metadata": {},
   "source": [
    "**Geometry ▸ Transformations ▸ Rotations ▸ RotationVector ▸ Constructors**"
   ]
  },
  {
   "cell_type": "code",
   "execution_count": null,
   "metadata": {},
   "outputs": [],
   "source": []
  },
  {
   "cell_type": "markdown",
   "metadata": {},
   "source": [
    "**Geometry ▸ Transformations ▸ Rotations ▸ RotationVector ▸ Operators**"
   ]
  },
  {
   "cell_type": "code",
   "execution_count": null,
   "metadata": {},
   "outputs": [],
   "source": []
  },
  {
   "cell_type": "markdown",
   "metadata": {},
   "source": [
    "**Geometry ▸ Transformations ▸ Rotations ▸ RotationVector ▸ Methods**"
   ]
  },
  {
   "cell_type": "code",
   "execution_count": null,
   "metadata": {},
   "outputs": [],
   "source": []
  },
  {
   "cell_type": "markdown",
   "metadata": {},
   "source": [
    "### Geometry ▸ Transformations ▸ Rotations ▸ RotationMatrix"
   ]
  },
  {
   "cell_type": "markdown",
   "metadata": {},
   "source": [
    "**Geometry ▸ Transformations ▸ Rotations ▸ RotationMatrix ▸ Constructors**"
   ]
  },
  {
   "cell_type": "code",
   "execution_count": null,
   "metadata": {},
   "outputs": [],
   "source": []
  },
  {
   "cell_type": "markdown",
   "metadata": {},
   "source": [
    "**Geometry ▸ Transformations ▸ Rotations ▸ RotationMatrix ▸ Operators**"
   ]
  },
  {
   "cell_type": "code",
   "execution_count": null,
   "metadata": {},
   "outputs": [],
   "source": []
  },
  {
   "cell_type": "markdown",
   "metadata": {},
   "source": [
    "**Geometry ▸ Transformations ▸ Rotations ▸ RotationMatrix ▸ Methods**"
   ]
  },
  {
   "cell_type": "code",
   "execution_count": null,
   "metadata": {},
   "outputs": [],
   "source": []
  }
 ],
 "metadata": {
  "kernelspec": {
   "display_name": "Python 3",
   "language": "python",
   "name": "python3"
  },
  "language_info": {
   "codemirror_mode": {
    "name": "ipython",
    "version": 3
   },
   "file_extension": ".py",
   "mimetype": "text/x-python",
   "name": "python",
   "nbconvert_exporter": "python",
   "pygments_lexer": "ipython3",
   "version": "3.6.5"
  }
 },
 "nbformat": 4,
 "nbformat_minor": 2
}
